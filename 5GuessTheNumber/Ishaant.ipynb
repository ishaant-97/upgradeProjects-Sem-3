{
 "cells": [
  {
   "cell_type": "code",
   "execution_count": 1,
   "id": "40a78e7c",
   "metadata": {},
   "outputs": [],
   "source": [
    "import random\n"
   ]
  },
  {
   "cell_type": "code",
   "execution_count": 2,
   "id": "197506fa",
   "metadata": {},
   "outputs": [],
   "source": [
    "# Function to generate a random number between 'start' and 'end' (inclusive)\n",
    "\n",
    "\n",
    "def generate_random_number(start, end):\n",
    "    return random.randint(start, end)\n",
    "\n",
    "# Function to get the player's guess (an integer)\n",
    "\n",
    "\n",
    "def get_guess():\n",
    "    while True:\n",
    "        try:\n",
    "            # Prompt the user for a guess and convert it to an integer\n",
    "            return int(input(\"Guess the number: \"))\n",
    "        except ValueError:\n",
    "            # Handle non-integer input\n",
    "            print(\"Invalid input. Please enter a number.\")\n",
    "\n",
    "# Function to check if the guess matches the answer\n",
    "\n",
    "\n",
    "def check_guess(guess, answer):\n",
    "    return guess == answer\n",
    "\n",
    "# Function to give a hint based on the guess compared to the answer\n",
    "\n",
    "\n",
    "def give_hint(guess, answer):\n",
    "    # Determine whether the answer is higher or lower than the guess\n",
    "    hint = \"higher\" if guess < answer else \"lower\"\n",
    "    print(f\"The number is {hint} than your guess.\")  # Provide the hint\n",
    "\n",
    "# Function to play the game with a specified range of numbers\n",
    "\n",
    "\n",
    "def play_game(start, end):\n",
    "    # Generate a random answer within the given range\n",
    "    answer = generate_random_number(start, end)\n",
    "    score = 100  # Initialize the player's score\n",
    "\n",
    "    while True:\n",
    "        guess = get_guess()  # Get the player's guess\n",
    "        if check_guess(guess, answer):\n",
    "            # The guess matches the answer\n",
    "            print(\"Congratulations! You guessed the number.\")\n",
    "            print(\"Your final score is:\", score)  # Display the final score\n",
    "            break\n",
    "        else:\n",
    "            give_hint(guess, answer)  # Provide a hint based on the guess\n",
    "            score -= 10  # Deduct points for an incorrect guess\n",
    "\n"
   ]
  },
  {
   "cell_type": "code",
   "execution_count": 3,
   "id": "58703fd8",
   "metadata": {},
   "outputs": [
    {
     "name": "stdout",
     "output_type": "stream",
     "text": [
      "Guess the number: 50\n",
      "The number is lower than your guess.\n",
      "Guess the number: 30\n",
      "The number is higher than your guess.\n",
      "Guess the number: 40\n",
      "The number is higher than your guess.\n",
      "Guess the number: 45\n",
      "The number is lower than your guess.\n",
      "Guess the number: 44\n",
      "Congratulations! You guessed the number.\n",
      "Your final score is: 60\n"
     ]
    }
   ],
   "source": [
    "# Example usage\n",
    "play_game(1, 100)  # Play the game with a range from 1 to 100\n"
   ]
  },
  {
   "cell_type": "code",
   "execution_count": null,
   "id": "1a4fa4c8",
   "metadata": {},
   "outputs": [],
   "source": []
  }
 ],
 "metadata": {
  "kernelspec": {
   "display_name": "Python 3 (ipykernel)",
   "language": "python",
   "name": "python3"
  },
  "language_info": {
   "codemirror_mode": {
    "name": "ipython",
    "version": 3
   },
   "file_extension": ".py",
   "mimetype": "text/x-python",
   "name": "python",
   "nbconvert_exporter": "python",
   "pygments_lexer": "ipython3",
   "version": "3.9.12"
  }
 },
 "nbformat": 4,
 "nbformat_minor": 5
}
