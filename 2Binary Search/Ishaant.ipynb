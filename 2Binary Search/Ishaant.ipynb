{
 "cells": [
  {
   "cell_type": "code",
   "execution_count": 5,
   "id": "1f15f7fb",
   "metadata": {},
   "outputs": [],
   "source": [
    "import random"
   ]
  },
  {
   "cell_type": "code",
   "execution_count": 6,
   "id": "6cc2798c",
   "metadata": {},
   "outputs": [],
   "source": [
    "# Create an empty list to store random numbers\n",
    "list1 = []\n",
    "\n",
    "# Generate 41 random numbers between 0 and 100 (inclusive) and store them in list1\n",
    "for i in range(0, 41):\n",
    "    num = random.randint(0, 100)\n",
    "    list1.append(num)\n",
    "\n",
    "# Sort the list in ascending order\n",
    "list1.sort()"
   ]
  },
  {
   "cell_type": "code",
   "execution_count": 7,
   "id": "878a028f",
   "metadata": {},
   "outputs": [],
   "source": [
    "# Define a function for binary search\n",
    "\n",
    "\n",
    "def binarySearch(list1, target):\n",
    "    length = len(list1)\n",
    "    l = 0\n",
    "    r = length - 1\n",
    "    while (l <= r):\n",
    "        middle = (l+r)//2\n",
    "        if (list1[middle] == target):\n",
    "            return middle  # Target found at index 'middle'\n",
    "        elif (list1[middle] > target):\n",
    "            r = middle - 1  # Adjust the right boundary\n",
    "        else:\n",
    "            l = middle + 1  # Adjust the left boundary\n",
    "\n",
    "    return -1  # Target not found\n"
   ]
  },
  {
   "cell_type": "code",
   "execution_count": 8,
   "id": "db82f1c2",
   "metadata": {},
   "outputs": [
    {
     "name": "stdout",
     "output_type": "stream",
     "text": [
      "9\n"
     ]
    }
   ],
   "source": [
    "# Define the target value to search for\n",
    "target = 10\n",
    "\n",
    "# Call the binarySearch function to find the target in the sorted list\n",
    "result = binarySearch(list1, target)\n",
    "\n",
    "# Print the result of the search\n",
    "print(result)\n"
   ]
  },
  {
   "cell_type": "code",
   "execution_count": null,
   "id": "4b646ce6",
   "metadata": {},
   "outputs": [],
   "source": []
  }
 ],
 "metadata": {
  "kernelspec": {
   "display_name": "Python 3 (ipykernel)",
   "language": "python",
   "name": "python3"
  },
  "language_info": {
   "codemirror_mode": {
    "name": "ipython",
    "version": 3
   },
   "file_extension": ".py",
   "mimetype": "text/x-python",
   "name": "python",
   "nbconvert_exporter": "python",
   "pygments_lexer": "ipython3",
   "version": "3.9.12"
  }
 },
 "nbformat": 4,
 "nbformat_minor": 5
}
